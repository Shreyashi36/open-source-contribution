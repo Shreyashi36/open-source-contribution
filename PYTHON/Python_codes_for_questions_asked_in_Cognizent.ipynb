{
  "nbformat": 4,
  "nbformat_minor": 0,
  "metadata": {
    "colab": {
      "provenance": []
    },
    "kernelspec": {
      "name": "python3",
      "display_name": "Python 3"
    },
    "language_info": {
      "name": "python"
    }
  },
  "cells": [
    {
      "cell_type": "markdown",
      "source": [
        "Remove similar letter with upper and lower case consequetively\n"
      ],
      "metadata": {
        "id": "KDil3hqTS5QN"
      }
    },
    {
      "cell_type": "code",
      "execution_count": null,
      "metadata": {
        "id": "hAdAFgQhS2nv"
      },
      "outputs": [],
      "source": [
        "def remove_upperlower(word: str):\n",
        "    char = list(word)\n",
        "    p1 = 0\n",
        "    p2 = p1 + 1\n",
        "    while p2 > p1:\n",
        "        if char[p1].lower() == char[p2].lower():\n",
        "            char.remove(p1)\n",
        "            char.remove(p2)\n",
        "            p1 += 1\n",
        "            p2 += 1\n",
        "\n",
        "        else:\n",
        "            p1 += 1\n",
        "            p2 += 1\n",
        "    p1 += 1\n",
        "    return ''.join(char)"
      ]
    },
    {
      "cell_type": "code",
      "source": [
        "word = 'PrRreEepinsta'"
      ],
      "metadata": {
        "id": "FJ8KK2PwTSQ5"
      },
      "execution_count": null,
      "outputs": []
    },
    {
      "cell_type": "code",
      "source": [
        "def remove_upperlower(word: str) -> str:\n",
        "    char = list(word)\n",
        "    i = 0\n",
        "\n",
        "    while i < len(char) - 1:\n",
        "        if char[i].lower() == char[i + 1].lower() and char[i] != char[i + 1]:\n",
        "            # Remove both characters\n",
        "            char.pop(i)\n",
        "            char.pop(i)\n",
        "            # Reset index to check from the start\n",
        "            i = 0\n",
        "        else:\n",
        "            i += 1\n",
        "\n",
        "    return ''.join(char)\n",
        "\n",
        "# Example Usage\n",
        "print(remove_upperlower(\"PrRreEepinsta\"))  # Output: \"b\"\n"
      ],
      "metadata": {
        "colab": {
          "base_uri": "https://localhost:8080/"
        },
        "id": "9AMFf11YZHDw",
        "outputId": "c01dc709-ee54-4e8c-d589-fe4761197873"
      },
      "execution_count": null,
      "outputs": [
        {
          "output_type": "stream",
          "name": "stdout",
          "text": [
            "Prepinsta\n"
          ]
        }
      ]
    },
    {
      "cell_type": "code",
      "source": [
        "def check_consequtive(word: str):\n",
        "    char = list(word)\n",
        "    i = 0\n",
        "    while i < len(char) - 1:\n",
        "        if char[i].lower() == char[i + 1].lower() and char[i] != char[i + 1]:\n",
        "            char.pop(i)\n",
        "            char.pop(i)\n",
        "            i = 0\n",
        "        else:\n",
        "            i += 1\n",
        "    return ''.join(char)\n"
      ],
      "metadata": {
        "id": "WNuV987KaoJ6"
      },
      "execution_count": null,
      "outputs": []
    },
    {
      "cell_type": "code",
      "source": [
        "check_consequtive('PrRreEeinsta')"
      ],
      "metadata": {
        "colab": {
          "base_uri": "https://localhost:8080/",
          "height": 36
        },
        "id": "jJOeF7yGcFaQ",
        "outputId": "98e93f5d-e760-41fe-9156-6d3edbb3393f"
      },
      "execution_count": null,
      "outputs": [
        {
          "output_type": "execute_result",
          "data": {
            "text/plain": [
              "'Preinsta'"
            ],
            "application/vnd.google.colaboratory.intrinsic+json": {
              "type": "string"
            }
          },
          "metadata": {},
          "execution_count": 39
        }
      ]
    },
    {
      "cell_type": "markdown",
      "source": [
        "Problem Statement : Shyam has given a string but with some error, his task is to remove the\n",
        "error and print the correct string. In the string, if the lowercase and uppercase of an alphabet\n",
        "come adjacent to each other then he needs to remove these both the characters. You task is to\n",
        "help Shyam in writing the code for the following problem."
      ],
      "metadata": {
        "id": "YGfIFANcdTwW"
      }
    },
    {
      "cell_type": "code",
      "source": [
        "def swap(word1:str, word2:str) -> bool:\n",
        "    list1 = list(word1)\n",
        "    list2 = list(word2)\n",
        "    i = 0\n",
        "    count = 0\n",
        "    if set(list1) == set(list2):\n",
        "        while i < len(list1) :\n",
        "            if list1[i] != list2[i]:\n",
        "                count += 1\n",
        "                i += 1\n",
        "            else:\n",
        "                i += 1\n",
        "\n",
        "    if (count > 2):\n",
        "        return False\n",
        "    else:\n",
        "        return True\n",
        "\n",
        "\n",
        "    # print(set1,set2)"
      ],
      "metadata": {
        "id": "G5SjfM5Vdbia"
      },
      "execution_count": null,
      "outputs": []
    },
    {
      "cell_type": "code",
      "source": [
        "swap('bnac', 'knab')"
      ],
      "metadata": {
        "colab": {
          "base_uri": "https://localhost:8080/"
        },
        "id": "oHeUeGHDdmsz",
        "outputId": "3636a396-de76-4a79-b8a4-b3a2b315ba53"
      },
      "execution_count": null,
      "outputs": [
        {
          "output_type": "execute_result",
          "data": {
            "text/plain": [
              "True"
            ]
          },
          "metadata": {},
          "execution_count": 57
        }
      ]
    },
    {
      "cell_type": "code",
      "source": [
        "def swap_2(s1:str, s2: str)->bool:\n",
        "    if len(s1) != len(s2):\n",
        "        return False\n",
        "    if s1 == s2:\n",
        "        return True\n",
        "    diff = []\n",
        "    for i in range(len(s1)):\n",
        "        if s1[i] != s2[i]:\n",
        "            diff.append(s1[i])\n",
        "\n",
        "    if len(diff) != 2:\n",
        "        return False\n",
        "    # print(diff)\n",
        "\n",
        "    i, j = diff\n",
        "    return s1[i] == s2[j] and s1[j] == s2[i]\n"
      ],
      "metadata": {
        "id": "WOEaPIxakZIG"
      },
      "execution_count": null,
      "outputs": []
    },
    {
      "cell_type": "code",
      "source": [],
      "metadata": {
        "id": "m-zdLbdnpIyS"
      },
      "execution_count": null,
      "outputs": []
    },
    {
      "cell_type": "code",
      "source": [
        "def can_make_equal_with_one_swap(s1: str, s2: str) -> bool:\n",
        "    if len(s1) != len(s2):\n",
        "        return False\n",
        "    if s1 == s2:\n",
        "        return True\n",
        "    diff = []\n",
        "    for i in range(len(s1)):\n",
        "        if s1[i] != s2[i]:\n",
        "            diff.append(i)\n",
        "\n",
        "    if len(diff) != 2:\n",
        "        return False\n",
        "    i, j = diff\n",
        "    return s1[i] == s2[j] and s1[j] == s2[i]\n",
        "\n",
        "# Example usage:\n",
        "result = can_make_equal_with_one_swap('bnac', 'cnab')\n",
        "print(result)  # Output: True\n"
      ],
      "metadata": {
        "colab": {
          "base_uri": "https://localhost:8080/"
        },
        "id": "2k1nrJYPoEsv",
        "outputId": "506c6c11-17c7-4463-c07d-1a78958f31ed"
      },
      "execution_count": null,
      "outputs": [
        {
          "output_type": "stream",
          "name": "stdout",
          "text": [
            "True\n"
          ]
        }
      ]
    },
    {
      "cell_type": "markdown",
      "source": [
        "Problem Statement: Chloe is provided with a string that contains only the following characters: ().[].[.]. She's been tasked with determining whether the given string forms a valid parenthesis sequence or not. A valid parenthesis sequence is one where each open bracket character has a corresponding closed bracket character. Could you create an algorithmic code to assist Chloe in solving this challenge? The code should return true if the string is a valid parenthesis sequence, and false otherwise.\n",
        "\n",
        "Input - ({[}\n",
        "\n"
      ],
      "metadata": {
        "id": "AXMbgQ_EAkZk"
      }
    },
    {
      "cell_type": "code",
      "source": [
        "def valid_parentheses(brackets: str) -> bool:\n",
        "    brackets_dict = {\n",
        "        ')':'(',\n",
        "        '}':'{',\n",
        "        ']':'['\n",
        "    }\n",
        "\n",
        "    stack = []\n",
        "    for char in brackets:\n",
        "        if char in brackets_dict.values():\n",
        "            stack.append(char)\n",
        "        elif char in brackets_dict:\n",
        "            if not stack or stack[-1] == brackets_dict[char]:\n",
        "                stack.pop()\n",
        "            else:\n",
        "                return False\n",
        "    return len(stack) == 0"
      ],
      "metadata": {
        "id": "u7WWtDnLCnJk"
      },
      "execution_count": null,
      "outputs": []
    },
    {
      "cell_type": "code",
      "source": [
        "valid_parentheses('({[]})')"
      ],
      "metadata": {
        "colab": {
          "base_uri": "https://localhost:8080/"
        },
        "id": "qOVgFxtKJ8TU",
        "outputId": "2b200466-2531-4cfc-d085-18d1382f99e6"
      },
      "execution_count": null,
      "outputs": [
        {
          "output_type": "execute_result",
          "data": {
            "text/plain": [
              "True"
            ]
          },
          "metadata": {},
          "execution_count": 88
        }
      ]
    },
    {
      "cell_type": "code",
      "source": [
        "def reverse_binary(n: int):\n",
        "    int_to_binary = bin(n)[2:]\n",
        "    # ('-0b')\n",
        "    reversed_binary = int_to_binary[::-1]\n",
        "    return int(reversed_binary, 2)"
      ],
      "metadata": {
        "id": "orh-Vrv1K7-f"
      },
      "execution_count": null,
      "outputs": []
    },
    {
      "cell_type": "code",
      "source": [
        "reverse_binary(11)"
      ],
      "metadata": {
        "colab": {
          "base_uri": "https://localhost:8080/"
        },
        "id": "1f0fjNtqMJ2O",
        "outputId": "dc5b4b1f-65aa-4048-99de-4f3556d7f22e"
      },
      "execution_count": null,
      "outputs": [
        {
          "output_type": "execute_result",
          "data": {
            "text/plain": [
              "13"
            ]
          },
          "metadata": {},
          "execution_count": 92
        }
      ]
    },
    {
      "cell_type": "markdown",
      "source": [
        "Question 5\n",
        "Problem Statement : Pratigya want to write a program to concatenate the words of a given\n",
        "statement , more formally she want the remove the spaces of the string and give the resultant\n",
        "string. Your task is to help her in writing the program.\n",
        "Constraints :\n",
        "1<= s.length<= 1000\n",
        "string contain spaces and alphabetic characters.\n",
        "Input:\n",
        "How are You\n",
        "Output :\n",
        "HowareYou\n",
        "Explanation :\n",
        "After removing spaces , HowareYou will be print"
      ],
      "metadata": {
        "id": "qh78GckrNJ4Y"
      }
    },
    {
      "cell_type": "code",
      "source": [
        "def remove_space(s:str):\n",
        "    # return s.replace(\" \",\"\")\n",
        "    return ''.join(s.split())"
      ],
      "metadata": {
        "id": "1sj0morgNJXE"
      },
      "execution_count": null,
      "outputs": []
    },
    {
      "cell_type": "code",
      "source": [
        "remove_space('How are you')"
      ],
      "metadata": {
        "colab": {
          "base_uri": "https://localhost:8080/",
          "height": 36
        },
        "id": "h0cwKmmQNsNH",
        "outputId": "c38d9e25-8e79-4147-db1d-d84c8e55f7c2"
      },
      "execution_count": null,
      "outputs": [
        {
          "output_type": "execute_result",
          "data": {
            "text/plain": [
              "'Howareyou'"
            ],
            "application/vnd.google.colaboratory.intrinsic+json": {
              "type": "string"
            }
          },
          "metadata": {},
          "execution_count": 104
        }
      ]
    },
    {
      "cell_type": "markdown",
      "source": [
        "#SECOND TYPE OF PROBLEMS\n"
      ],
      "metadata": {
        "id": "puJTtZ_vPij5"
      }
    },
    {
      "cell_type": "markdown",
      "source": [
        "Write a program to calculate the fuel consumption of your truck.The program should ask the user to enter the quantity of diesel to fill up the tank and the distance covered till the tank goes dry.Calculate the fuel consumption and display it in the format (liters per 100 kilometers).\n",
        "\n",
        "Convert the same result to the U.S. style of miles per gallon and display the result. If the quantity or distance is zero or negative display ” is an Invalid Input”.\n",
        "\n",
        "[Note: The US approach of fuel consumption calculation (distance / fuel) is the inverse of the European approach (fuel / distance ). Also note that 1 kilometer is 0.6214 miles, and 1 liter is 0.2642 gallons.]\n"
      ],
      "metadata": {
        "id": "5ovyDq55-jqZ"
      }
    },
    {
      "cell_type": "code",
      "source": [
        "def calculate_fuel():\n",
        "    try:\n",
        "        liter = float(input(\"Enter the number of liters to fill the tank: \"))\n",
        "        if liter <= 0:\n",
        "            print(f\"{liter} is an Invalid Input\")\n",
        "            return\n",
        "\n",
        "        distance = float(input(\"Enter the distance travelled: \"))\n",
        "        if distance <= 0:\n",
        "            print(f\"{distance} is an Invalid Input\")\n",
        "            return\n",
        "        # calculation\n",
        "        # us\n",
        "        liters_per_100_km = (liter / distance) * 100\n",
        "        print(\"\\nLiters/100km\")\n",
        "        print(f\"{liters_per_100_km:.2f}\")\n",
        "\n",
        "        # European\n",
        "        gallons = liter * 0.2642\n",
        "        miles = distance * 0.6214\n",
        "\n",
        "        gallons_per_mile =  miles / gallons\n",
        "        print(\"\\nGallons/Mile\")\n",
        "        print(f\"{gallons_per_mile:.2f}\")\n",
        "\n",
        "    except ValueError:\n",
        "        return (\"Invalid Input. Try again\")\n",
        "\n",
        "calculate_fuel()\n"
      ],
      "metadata": {
        "colab": {
          "base_uri": "https://localhost:8080/"
        },
        "id": "iLzUB7sx-jNT",
        "outputId": "27886517-e316-42a5-d6e2-cb2200ff183f"
      },
      "execution_count": null,
      "outputs": [
        {
          "output_type": "stream",
          "name": "stdout",
          "text": [
            "Enter the number of liters to fill the tank: 37\n",
            "Enter the distance travelled: 300\n",
            "\n",
            "Liters/100km\n",
            "12.33\n",
            "\n",
            "Gallons/Mile\n",
            "19.07\n"
          ]
        }
      ]
    },
    {
      "cell_type": "markdown",
      "source": [
        "#Problem Statement –\n",
        "Vohra went to a movie with his friends in a Wave theatre and during  break time he bought pizzas, puffs and cool drinks. Consider   the following prices :\n",
        "\n",
        "    Rs.100/pizza\n",
        "    Rs.20/puffs\n",
        "    Rs.10/cooldrink\n",
        "\n",
        "Generate a bill for What Vohra has bought.\n",
        "\n",
        "Sample Input 1:\n",
        "\n",
        "    Enter the no of pizzas bought:10\n",
        "    Enter the no of puffs bought:12\n",
        "    Enter the no of cool drinks bought:5\n",
        "\n",
        "Sample Output 1:\n",
        "\n",
        "Bill Details\n",
        "\n",
        "    No of pizzas:10\n",
        "    No of puffs:12\n",
        "    No of cooldrinks:5\n",
        "    Total price=1290\n",
        "\n",
        "ENJOY THE SHOW!!!\n"
      ],
      "metadata": {
        "id": "hSf5S6s7EQP7"
      }
    },
    {
      "cell_type": "code",
      "source": [
        "pizzas = int(input(\"Enter the no of pizzas bought:\"))\n",
        "Puffs = int(input(\"Enter the no of puffs bought:\"))\n",
        "Cool_drinks = int(input(\"Enter the no of cool drinks bought:\"))\n",
        "\n",
        "Total = pizzas* 100 + Puffs* 20 + Cool_drinks * 10\n",
        "\n",
        "print(\"Bill Details\")\n",
        "print(\"No of pizzas:{}\".format(pizzas))\n",
        "print(\"No of Puffs:{}\".format(Puffs))\n",
        "print(\"No of cooldrinks:{}\".format(Cool_drinks))\n",
        "print(\"Total prices:{}\".format(Total))"
      ],
      "metadata": {
        "colab": {
          "base_uri": "https://localhost:8080/"
        },
        "id": "uwM2N2eZEP31",
        "outputId": "f31757e9-6db3-401d-c28b-a75926120734"
      },
      "execution_count": null,
      "outputs": [
        {
          "output_type": "stream",
          "name": "stdout",
          "text": [
            "Enter the no of pizzas bought:10\n",
            "Enter the no of puffs bought:12\n",
            "Enter the no of cool drinks bought:5\n",
            "Bill Details\n",
            "No of pizzas:10\n",
            "No of Puffs:12\n",
            "No of cooldrinks:5\n",
            "Total prices:1290\n"
          ]
        }
      ]
    },
    {
      "cell_type": "markdown",
      "source": [
        "THIS IS MY CODE I AM SO PROUD OF MYSELF"
      ],
      "metadata": {
        "id": "r7_KBrFTk3q7"
      }
    },
    {
      "cell_type": "markdown",
      "source": [
        "INdependence day parade\n"
      ],
      "metadata": {
        "id": "o5xcwApgwowf"
      }
    },
    {
      "cell_type": "code",
      "source": [
        "def min_length(n:int, segment:str):\n",
        "    count = 0\n",
        "    for i in range(n):\n",
        "        if segment[i] == \"I\":\n",
        "            count += 1\n",
        "        if count == 2:\n",
        "            break\n",
        "        else:\n",
        "            pass\n",
        "        if count == 0:\n",
        "            return 0\n",
        "    return len(segment[i:])\n"
      ],
      "metadata": {
        "id": "3BEGOEmWRv_P"
      },
      "execution_count": null,
      "outputs": []
    },
    {
      "cell_type": "code",
      "source": [
        "min_length(6,'IIIIII')"
      ],
      "metadata": {
        "colab": {
          "base_uri": "https://localhost:8080/"
        },
        "id": "LBQIVB8khMP4",
        "outputId": "88541066-b6b8-42e9-c603-f330e4ce0bba"
      },
      "execution_count": null,
      "outputs": [
        {
          "output_type": "execute_result",
          "data": {
            "text/plain": [
              "5"
            ]
          },
          "metadata": {},
          "execution_count": 33
        }
      ]
    },
    {
      "cell_type": "code",
      "source": [
        "def convert_ascii(s:str):\n",
        "    sum_s = []\n",
        "    for i in s:\n",
        "        sum_s.append(ord(i))\n",
        "    return sum(sum_s)"
      ],
      "metadata": {
        "id": "TL0N9xmFa8jg"
      },
      "execution_count": null,
      "outputs": []
    },
    {
      "cell_type": "code",
      "source": [
        "convert_ascii('ABCD')"
      ],
      "metadata": {
        "colab": {
          "base_uri": "https://localhost:8080/"
        },
        "id": "11lu6yokbVxs",
        "outputId": "ff665305-b9fe-476b-e293-3c73b085ae50"
      },
      "execution_count": null,
      "outputs": [
        {
          "output_type": "execute_result",
          "data": {
            "text/plain": [
              "266"
            ]
          },
          "metadata": {},
          "execution_count": 18
        }
      ]
    },
    {
      "cell_type": "markdown",
      "source": [
        "Input: s = \"A man, a plan, a canal: Panama\"\n",
        "\n",
        "Output: true\n",
        "\n",
        "Explanation: \"amanaplanacanalpanama\" is a palindrome.\n"
      ],
      "metadata": {
        "id": "Sa6_FNbbGXHO"
      }
    },
    {
      "cell_type": "code",
      "source": [
        "def isPalindrome( s: str) -> bool:\n",
        "    return  ''.join(char.lower() for char in s if char.isalnum())"
      ],
      "metadata": {
        "id": "ROcV4_HVGSkS"
      },
      "execution_count": null,
      "outputs": []
    },
    {
      "cell_type": "code",
      "source": [
        "isPalindrome(\"A man, a plan, a canal: Panama\")"
      ],
      "metadata": {
        "colab": {
          "base_uri": "https://localhost:8080/",
          "height": 36
        },
        "id": "qO-lW02vGnNX",
        "outputId": "5eea82b0-64ef-423b-9eb7-2fa072efdbf9"
      },
      "execution_count": null,
      "outputs": [
        {
          "output_type": "execute_result",
          "data": {
            "text/plain": [
              "'a man, a plan, a canal: panama'"
            ],
            "application/vnd.google.colaboratory.intrinsic+json": {
              "type": "string"
            }
          },
          "metadata": {},
          "execution_count": 25
        }
      ]
    },
    {
      "cell_type": "code",
      "source": [
        "s = \"hello\""
      ],
      "metadata": {
        "id": "_yTHfGqqJKtR"
      },
      "execution_count": null,
      "outputs": []
    },
    {
      "cell_type": "code",
      "source": [
        "s.isalnum()"
      ],
      "metadata": {
        "colab": {
          "base_uri": "https://localhost:8080/"
        },
        "id": "FnHX2sG9I96A",
        "outputId": "355a8b17-c6d1-4cc4-ebe1-74421586fcde"
      },
      "execution_count": null,
      "outputs": [
        {
          "output_type": "execute_result",
          "data": {
            "text/plain": [
              "True"
            ]
          },
          "metadata": {},
          "execution_count": 33
        }
      ]
    },
    {
      "cell_type": "code",
      "source": [
        "def even_odd(A:int, N:int):\n",
        "    arr = \"\"\n",
        "    for i in range(A, N+1):\n",
        "        if i % 2 == 0:\n",
        "            arr += \"even\"\n",
        "        else:\n",
        "            arr += \"odd\"\n",
        "\n",
        "    return arr"
      ],
      "metadata": {
        "id": "RqIzrjzyixKe"
      },
      "execution_count": null,
      "outputs": []
    },
    {
      "cell_type": "code",
      "source": [
        "even_odd(1,10)"
      ],
      "metadata": {
        "colab": {
          "base_uri": "https://localhost:8080/",
          "height": 36
        },
        "id": "BgW7I9dvjIIv",
        "outputId": "40c167ad-f763-4689-c9da-38d1e3e0a076"
      },
      "execution_count": null,
      "outputs": [
        {
          "output_type": "execute_result",
          "data": {
            "text/plain": [
              "'oddevenoddevenoddevenoddevenoddeven'"
            ],
            "application/vnd.google.colaboratory.intrinsic+json": {
              "type": "string"
            }
          },
          "metadata": {},
          "execution_count": 6
        }
      ]
    },
    {
      "cell_type": "code",
      "source": [
        "def deff(input1, input2):\n",
        "    s = 0\n",
        "    x = 0\n",
        "    arr =input1\n",
        "    for i in range(input2):\n",
        "        if  i % 2 == 0:\n",
        "            x = x ^ arr[i]\n",
        "            print(x)\n",
        "        else:\n",
        "            s += arr[i]\n",
        "    return s - x"
      ],
      "metadata": {
        "id": "NgAcfGGWkFg6"
      },
      "execution_count": null,
      "outputs": []
    },
    {
      "cell_type": "code",
      "source": [
        "deff([10,5,6,3,7,2],6)"
      ],
      "metadata": {
        "colab": {
          "base_uri": "https://localhost:8080/"
        },
        "id": "k5LNzDK8oDbf",
        "outputId": "bb243015-c109-455c-fcf2-18dca9d7647f"
      },
      "execution_count": null,
      "outputs": [
        {
          "output_type": "stream",
          "name": "stdout",
          "text": [
            "10\n",
            "12\n",
            "11\n"
          ]
        },
        {
          "output_type": "execute_result",
          "data": {
            "text/plain": [
              "-1"
            ]
          },
          "metadata": {},
          "execution_count": 14
        }
      ]
    },
    {
      "cell_type": "code",
      "source": [
        "def findpairs(input1,input2):\n",
        "    pair = []\n",
        "    i = 0\n",
        "    j = input1 - 1\n",
        "    max_product = 0\n",
        "    arr = sorted(input2)\n",
        "    while j > i:\n",
        "        if arr[i] + arr[j] == 18 and arr[i] < arr[j]:\n",
        "            temp = arr[i] * arr[j]\n",
        "            if temp >= max_product:\n",
        "                max_product = temp\n",
        "                pair = [arr[i], arr[j]]\n",
        "            i += 1\n",
        "            j -= 1\n",
        "\n",
        "        elif arr[i] + arr[j] > 18:\n",
        "            j -= 1\n",
        "\n",
        "        else:\n",
        "            i += 1\n",
        "    return pair\n",
        "\n"
      ],
      "metadata": {
        "id": "Xio2E2J3oyb_"
      },
      "execution_count": null,
      "outputs": []
    },
    {
      "cell_type": "code",
      "source": [
        "findpairs(8,[11,1,2,8,10,11,15,7])"
      ],
      "metadata": {
        "colab": {
          "base_uri": "https://localhost:8080/"
        },
        "id": "LHOaL1TauJN2",
        "outputId": "8632ac58-057f-4447-cd66-2f34b85eca56"
      },
      "execution_count": null,
      "outputs": [
        {
          "output_type": "execute_result",
          "data": {
            "text/plain": [
              "[8, 10]"
            ]
          },
          "metadata": {},
          "execution_count": 28
        }
      ]
    },
    {
      "cell_type": "code",
      "source": [
        "def specialfib(input1):\n",
        "    res = [0] * (input1 + 1)\n",
        "    res[0] = 1\n",
        "    res[1] = 1\n",
        "    for i in range(2, input1 + 1):\n",
        "        res[i] = (res[i - 1] * res[i - 1] + res[i - 2] * res[i - 2]) % 47\n",
        "    return res[input1]"
      ],
      "metadata": {
        "id": "6aUsHNW6zQjQ"
      },
      "execution_count": null,
      "outputs": []
    },
    {
      "cell_type": "code",
      "source": [
        "def reverse_arr(arr,n):\n",
        "    rev = arr[::-1]\n",
        "    return sum(rev[i] for i in range(n) if i % 2 == 0)\n"
      ],
      "metadata": {
        "id": "36b7x8xY0zKI"
      },
      "execution_count": null,
      "outputs": []
    },
    {
      "cell_type": "code",
      "source": [
        "reverse_arr([10,20,30,40,50,60],6)"
      ],
      "metadata": {
        "colab": {
          "base_uri": "https://localhost:8080/"
        },
        "id": "Khc-DZlX1gdv",
        "outputId": "ae14c27f-aaa2-4d2c-9345-8ed11a43f8ed"
      },
      "execution_count": null,
      "outputs": [
        {
          "output_type": "execute_result",
          "data": {
            "text/plain": [
              "120"
            ]
          },
          "metadata": {},
          "execution_count": 31
        }
      ]
    },
    {
      "cell_type": "markdown",
      "source": [
        "file format = File_1"
      ],
      "metadata": {
        "id": "oBfTheAi2KgI"
      }
    },
    {
      "cell_type": "code",
      "source": [
        "import re\n",
        "\n",
        "def find_latest_version(S, input2):\n",
        "    if input2 == 0:  # If the size of the array is 0\n",
        "        return -1\n",
        "\n",
        "    latest_version = -1  # Initialize to -1, assuming no correct files are found\n",
        "\n",
        "    # Regular expression to match the correct file format \"File_X\"\n",
        "    pattern = r\"File_(\\d+)\"  # Captures the version number as a group\n",
        "\n",
        "    for file in S:\n",
        "        match = re.match(pattern, file)\n",
        "        if match:  # If the file matches the correct pattern\n",
        "            version = int(match.group(1))  # Extract the version number\n",
        "            latest_version = max(latest_version, version)  # Update the latest version\n",
        "\n",
        "    return latest_version\n",
        "\n",
        "# Example Usage:\n",
        "S = [\"File_1\", \"File_2\", \"File_3\"]\n",
        "input2 = 3\n",
        "\n",
        "print(find_latest_version(S, input2))  # Output: 3\n"
      ],
      "metadata": {
        "id": "J8hwbsmREm1w",
        "outputId": "cc1bdf21-2c56-4d92-bea4-a795c92bc89f",
        "colab": {
          "base_uri": "https://localhost:8080/"
        }
      },
      "execution_count": null,
      "outputs": [
        {
          "output_type": "stream",
          "name": "stdout",
          "text": [
            "3\n"
          ]
        }
      ]
    },
    {
      "cell_type": "code",
      "source": [],
      "metadata": {
        "id": "Lv4Hgm0eEpiG"
      },
      "execution_count": null,
      "outputs": []
    }
  ]
}